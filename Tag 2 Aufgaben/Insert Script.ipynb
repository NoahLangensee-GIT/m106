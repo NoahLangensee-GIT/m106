{
    "metadata": {
        "kernelspec": {
            "name": "SQL",
            "display_name": "SQL",
            "language": "sql"
        },
        "language_info": {
            "name": "sql",
            "version": ""
        }
    },
    "nbformat_minor": 2,
    "nbformat": 4,
    "cells": [
        {
            "cell_type": "code",
            "source": [
                "USE m106\r\n",
                "-- Record einfügen mit expliziter Angabe der Spalten\r\n",
                "-- Achtung: Reihenfolge der Values muss stimmen\r\n",
                "INSERT INTO verkauf.kunden (vorname, nachname) VALUES ('Hans', 'Meier');\r\n",
                "\r\n",
                "-- Record einfügen ohne Angabe der Spalten\r\n",
                "INSERT INTO verkauf.kunden VALUES ('Peter', 'Müller');\r\n",
                "\r\n",
                "-- Record einfügen, bei dem der Default-Constraint greift\r\n",
                "INSERT INTO verkauf.kunden (nachname) VALUES ('Matter');\r\n",
                "\r\n",
                "-- Beispiel einer Fremdschlüsselverletzung\r\n",
                "INSERT INTO verkauf.bestellungen (bestelldatum, kundenid) \r\n",
                "VALUES ('21.07.2023 10:34:05', 10)\r\n",
                "\r\n",
                "-- Beispiel, bei dem der CHECK-Constraint verletzt wird \r\n",
                "INSERT INTO verkauf.produkte (produktname, energielabel) VALUES ('Elektrogrill', 'G');"
            ],
            "metadata": {
                "azdata_cell_guid": "8320a4c2-7e7c-40f0-88e8-5316a558baf2",
                "language": "sql"
            },
            "outputs": [
                {
                    "output_type": "display_data",
                    "data": {
                        "text/html": "(1 row affected)"
                    },
                    "metadata": {}
                },
                {
                    "output_type": "display_data",
                    "data": {
                        "text/html": "(1 row affected)"
                    },
                    "metadata": {}
                },
                {
                    "output_type": "display_data",
                    "data": {
                        "text/html": "(1 row affected)"
                    },
                    "metadata": {}
                },
                {
                    "output_type": "error",
                    "ename": "",
                    "evalue": "Msg 242, Level 16, State 3, Line 13\r\nThe conversion of a varchar data type to a datetime data type resulted in an out-of-range value.",
                    "traceback": []
                },
                {
                    "output_type": "display_data",
                    "data": {
                        "text/html": "The statement has been terminated."
                    },
                    "metadata": {}
                },
                {
                    "output_type": "error",
                    "ename": "",
                    "evalue": "Msg 547, Level 16, State 0, Line 17\r\nThe INSERT statement conflicted with the CHECK constraint \"CK__produkte__energi__48CFD27E\". The conflict occurred in database \"m106\", table \"verkauf.produkte\", column 'energielabel'.",
                    "traceback": []
                },
                {
                    "output_type": "display_data",
                    "data": {
                        "text/html": "The statement has been terminated."
                    },
                    "metadata": {}
                },
                {
                    "output_type": "display_data",
                    "data": {
                        "text/html": "Total execution time: 00:00:00.129"
                    },
                    "metadata": {}
                }
            ],
            "execution_count": 2
        },
        {
            "cell_type": "code",
            "source": [
                "-- mehrere Records mit einem Statement in die Tabelle kunden einfügen\r\n",
                "INSERT INTO verkauf.kunden (vorname, nachname) \r\n",
                "VALUES ('Bruno', 'Moser'), ('Heinz', 'Manser');\r\n",
                "\r\n",
                "-- mehrere Records mit einem Statement in die Tabelle produkte einfügen\r\n",
                "INSERT INTO verkauf.produkte VALUES \r\n",
                "('Zitronenpresse',4.9,'A'), \r\n",
                "('Gartenlounge',224,NULL), \r\n",
                "('Fahrradträger',334.5,NULL), \r\n",
                "('Weinkühlschrank',139,'C');\r\n",
                "\r\n",
                "-- mehrere Bestellungen mit einem Statement erfassen\r\n",
                "INSERT INTO verkauf.bestellungen (bestelldatum, kundenid) VALUES \r\n",
                "('2023-09-10 11:20:07', 1),\r\n",
                "('2023-11-05 17:43:13', 2),\r\n",
                "('2023-12-27 09:32:55', 3);"
            ],
            "metadata": {
                "azdata_cell_guid": "ee8ed518-be0f-429b-af59-4ba34ff03cc6",
                "language": "sql"
            },
            "outputs": [
{
    "output_type": "error",
    "evalue": "Msg 208, Level 16, State 1, Line 2\r\nInvalid object name 'verkauf.kunden'.",
    "ename": "",
    "traceback": []
}, {
    "output_type": "display_data",
    "data": {
        "text/html": "Total execution time: 00:00:00.008"
    },
    "metadata": {}
}
],
            "execution_count": 1
        }
    ]
}
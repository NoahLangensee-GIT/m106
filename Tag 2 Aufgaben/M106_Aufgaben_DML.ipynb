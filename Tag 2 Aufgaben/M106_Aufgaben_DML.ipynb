{
    "metadata": {
        "kernelspec": {
            "name": "SQL",
            "display_name": "SQL",
            "language": "sql"
        },
        "language_info": {
            "name": "sql",
            "version": ""
        }
    },
    "nbformat_minor": 2,
    "nbformat": 4,
    "cells": [
        {
            "cell_type": "markdown",
            "source": [
                "# Übungsaufgaben DML\n",
                "\n",
                "Der folgende Block enthält Übungsaufgaben zu den Kapiteln INSERT, UPDATE, DELETE und CASCADE."
            ],
            "metadata": {
                "azdata_cell_guid": "08cc9dc5-0641-4d1e-b1e2-a8ecc9035bf9"
            },
            "attachments": {}
        },
        {
            "cell_type": "markdown",
            "source": [
                "## INSERT\n",
                "\n",
                "Führe diese Aufgaben aus, nachdem du den INSERT-Block bearbeitet hast."
            ],
            "metadata": {
                "azdata_cell_guid": "b0183c7a-9550-49ff-bf35-b4737c8b0f2b"
            },
            "attachments": {}
        },
        {
            "cell_type": "markdown",
            "source": [
                "**1.1** Erstelle eine neue Kundin in der Tabelle _verkauf.kunden_ mit folgenden Attributen:\n",
                "\n",
                "- Vorname: Barbara\n",
                "- Nachname: Traufer"
            ],
            "metadata": {
                "azdata_cell_guid": "06971469-2db3-46ec-8015-f549de96feaf"
            },
            "attachments": {}
        },
        {
            "cell_type": "code",
            "source": [
                "USE m106\r\n",
                "INSERT INTO verkauf.kunden (vorname, nachname) VALUES ('Barbara', 'Traufer')"
            ],
            "metadata": {
                "azdata_cell_guid": "275d6686-53f4-4b42-a0f7-332964b4a6bf",
                "language": "sql",
                "tags": []
            },
            "outputs": [
                {
                    "output_type": "display_data",
                    "data": {
                        "text/html": "(1 row affected)"
                    },
                    "metadata": {}
                },
                {
                    "output_type": "display_data",
                    "data": {
                        "text/html": "Total execution time: 00:00:00.008"
                    },
                    "metadata": {}
                }
            ],
            "execution_count": 4
        },
        {
            "cell_type": "markdown",
            "source": [
                "**1.2** Füge drei neue Produkte in der dafür vorgesehenen Tabelle hinzu. Den Produktnamen, den Preis sowie das Energielabel kannst du jeweils selber bestimmen."
            ],
            "metadata": {
                "azdata_cell_guid": "20439388-ed53-4ea3-8db3-eb199da5496d"
            },
            "attachments": {}
        },
        {
            "cell_type": "code",
            "source": [
                "INSERT INTO verkauf.produkte VALUES \r\n",
                "('Zitronenpresse',4.9,'A'), \r\n",
                "('Gartenlounge',224,NULL), \r\n",
                "('Fahrradträger',334.5,NULL);"
            ],
            "metadata": {
                "azdata_cell_guid": "fd6350bf-489b-4828-a2d7-42d50b44adf0",
                "language": "sql"
            },
            "outputs": [
                {
                    "output_type": "display_data",
                    "data": {
                        "text/html": "(3 rows affected)"
                    },
                    "metadata": {}
                },
                {
                    "output_type": "display_data",
                    "data": {
                        "text/html": "Total execution time: 00:00:00.013"
                    },
                    "metadata": {}
                }
            ],
            "execution_count": 5
        },
        {
            "cell_type": "markdown",
            "source": [
                "**1.3** Erstelle zwei neue Einträge in der Tabelle _verkauf.bestellungen_, welche zur oben neu erstellten Kundin gehören. Das Bestelldatum kannst du bei beiden Bestellungen frei wählen."
            ],
            "metadata": {
                "azdata_cell_guid": "85468b54-75e1-4d31-925b-841e1acd8d35"
            },
            "attachments": {}
        },
        {
            "cell_type": "code",
            "source": [
                "INSERT INTO verkauf.bestellungen (bestelldatum, kundenid) VALUES ('2024-12-24', 6)\n",
                ""
            ],
            "metadata": {
                "azdata_cell_guid": "d991a913-95d4-428e-b5c1-cacbd85b07ba",
                "language": "sql",
                "tags": []
            },
            "outputs": [
                {
                    "output_type": "display_data",
                    "data": {
                        "text/html": "(1 row affected)"
                    },
                    "metadata": {}
                },
                {
                    "output_type": "display_data",
                    "data": {
                        "text/html": "Total execution time: 00:00:00.009"
                    },
                    "metadata": {}
                }
            ],
            "execution_count": 3
        },
        {
            "cell_type": "markdown",
            "source": [
                "## UPDATE\n",
                "\n",
                "Führe diese Aufgaben aus, nachdem du den UPDATE-Block bearbeitet hast."
            ],
            "metadata": {
                "azdata_cell_guid": "ea8ec5c1-83ad-4a18-9af0-bad7bdc1da01"
            },
            "attachments": {}
        },
        {
            "cell_type": "markdown",
            "source": [
                "**2.1** Die Kundin mit der Kundenid 3 wünscht, dass ihr Vorname in den Stammdaten von _unbekannt_ auf _Maria_ geändert wird. Bitte nimm diese Änderung vor."
            ],
            "metadata": {
                "azdata_cell_guid": "3da0c501-4455-4e9a-bfe9-7427927c5cce"
            },
            "attachments": {}
        },
        {
            "cell_type": "code",
            "source": [
                "UPDATE verkauf.kunden SET vorname = 'Maria' WHERE kundenid = 3"
            ],
            "metadata": {
                "azdata_cell_guid": "41599a42-18b1-4bb3-ae93-2ac78e8ceb09",
                "language": "sql"
            },
            "outputs": [
                {
                    "output_type": "display_data",
                    "data": {
                        "text/html": "(1 row affected)"
                    },
                    "metadata": {}
                },
                {
                    "output_type": "display_data",
                    "data": {
                        "text/html": "Total execution time: 00:00:00.011"
                    },
                    "metadata": {}
                }
            ],
            "execution_count": 4
        },
        {
            "cell_type": "markdown",
            "source": [
                "**2.2** Du erhältst den Auftrag, den Namen des Produktes mit der Id 2 auf _Zitruspresse_ zu ändern und im selben Zug auch gleich den Preis um CHF 10 zu erhöhen."
            ],
            "metadata": {
                "azdata_cell_guid": "e814a423-852b-4887-a40c-9f208828ecba"
            }
        },
        {
            "cell_type": "code",
            "source": [
                "UPDATE verkauf.produkte SET produktname = 'Zitruspresse', preis += 10 WHERE produktid=2;"
            ],
            "metadata": {
                "azdata_cell_guid": "fa09856f-5174-4087-862f-4f03efeaf199",
                "language": "sql"
            },
            "outputs": [
                {
                    "output_type": "display_data",
                    "data": {
                        "text/html": "(1 row affected)"
                    },
                    "metadata": {}
                },
                {
                    "output_type": "display_data",
                    "data": {
                        "text/html": "Total execution time: 00:00:00.013"
                    },
                    "metadata": {}
                }
            ],
            "execution_count": 5
        },
        {
            "cell_type": "markdown",
            "source": [
                "## DELETE\n",
                "\n",
                "Führe diese Aufgaben aus, nachdem du den DELETE-Block bearbeitet hast."
            ],
            "metadata": {
                "azdata_cell_guid": "adef7123-c862-42ec-8ac1-f38f6755646c"
            },
            "attachments": {}
        },
        {
            "cell_type": "markdown",
            "source": [
                "**3.1** Du wirst von deinem Vorgesetzten aufgefordert, alle Bestellungen des Kunden _Bruno Moser_ zu löschen. Nimm bitte diese Mutation vor.\n",
                "**Wichtig**: Sei vorsichtig, dass nicht zu viele Daten gelöscht werden."
            ],
            "metadata": {
                "azdata_cell_guid": "e1ea77fb-6060-429b-97d6-0c22729bf16e"
            },
            "attachments": {}
        },
        {
            "cell_type": "code",
            "source": [
                "DELETE FROM verkauf.bestellungen WHERE kundenid = 4"
            ],
            "metadata": {
                "azdata_cell_guid": "c245d7d8-a2c2-4364-ae6f-8693b5b933da",
                "language": "sql",
                "tags": []
            },
            "outputs": [
                {
                    "output_type": "display_data",
                    "data": {
                        "text/html": "(0 rows affected)"
                    },
                    "metadata": {}
                },
                {
                    "output_type": "display_data",
                    "data": {
                        "text/html": "Total execution time: 00:00:00.016"
                    },
                    "metadata": {}
                }
            ],
            "execution_count": 7
        },
        {
            "cell_type": "markdown",
            "source": [
                "**3.2** Angenommen, du wirst angewiesen die Kundin Barbara Traufer aus der Kunden-Tabelle zu löschen. Würde das Datenbanksystem diese Löschung zulassen? Was gibt es dabei zu beachten? Schreibe deine Überlegungen auf, ohne die Mutation vorzunehmen."
            ],
            "metadata": {
                "azdata_cell_guid": "fe7a46c6-3ef4-4a83-9b01-4f815f8d8983"
            }
        },
        {
            "cell_type": "code",
            "source": [
                "/*\n",
                "nein weil es noch eine bestellung mit dem foreign key von barabara gibt\n",
                "*/\n",
                "SELECT * FROM verkauf.kunden"
            ],
            "metadata": {
                "azdata_cell_guid": "2099a488-b22d-47b8-aa2a-3fe2d1872d11",
                "language": "sql",
                "tags": []
            },
            "outputs": [
                {
                    "output_type": "display_data",
                    "data": {
                        "text/html": "(6 rows affected)"
                    },
                    "metadata": {}
                },
                {
                    "output_type": "display_data",
                    "data": {
                        "text/html": "Total execution time: 00:00:00.008"
                    },
                    "metadata": {}
                },
                {
                    "output_type": "execute_result",
                    "metadata": {},
                    "execution_count": 9,
                    "data": {
                        "application/vnd.dataresource+json": {
                            "schema": {
                                "fields": [
                                    {
                                        "name": "kundenid"
                                    },
                                    {
                                        "name": "vorname"
                                    },
                                    {
                                        "name": "nachname"
                                    }
                                ]
                            },
                            "data": [
                                {
                                    "kundenid": "1",
                                    "vorname": "Hans",
                                    "nachname": "Meier"
                                },
                                {
                                    "kundenid": "2",
                                    "vorname": "Peter",
                                    "nachname": "Müller"
                                },
                                {
                                    "kundenid": "3",
                                    "vorname": "Maria",
                                    "nachname": "Matter"
                                },
                                {
                                    "kundenid": "4",
                                    "vorname": "Bruno",
                                    "nachname": "Moser"
                                },
                                {
                                    "kundenid": "5",
                                    "vorname": "Heinz",
                                    "nachname": "Manser"
                                },
                                {
                                    "kundenid": "6",
                                    "vorname": "Barbara",
                                    "nachname": "Traufer"
                                }
                            ]
                        },
                        "text/html": [
                            "<table>",
                            "<tr><th>kundenid</th><th>vorname</th><th>nachname</th></tr>",
                            "<tr><td>1</td><td>Hans</td><td>Meier</td></tr>",
                            "<tr><td>2</td><td>Peter</td><td>Müller</td></tr>",
                            "<tr><td>3</td><td>Maria</td><td>Matter</td></tr>",
                            "<tr><td>4</td><td>Bruno</td><td>Moser</td></tr>",
                            "<tr><td>5</td><td>Heinz</td><td>Manser</td></tr>",
                            "<tr><td>6</td><td>Barbara</td><td>Traufer</td></tr>",
                            "</table>"
                        ]
                    }
                }
            ],
            "execution_count": 9
        }
    ]
}